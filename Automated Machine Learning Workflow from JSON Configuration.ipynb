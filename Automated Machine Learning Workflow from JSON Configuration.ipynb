{
 "cells": [
  {
   "cell_type": "markdown",
   "id": "592d6194",
   "metadata": {},
   "source": [
    "# Importing All The Modules"
   ]
  },
  {
   "cell_type": "code",
   "execution_count": 98,
   "id": "3afa27ca",
   "metadata": {},
   "outputs": [],
   "source": [
    "import json\n",
    "import pandas as pd\n",
    "import json\n",
    "import pandas as pd\n",
    "from sklearn.compose import ColumnTransformer\n",
    "from sklearn.pipeline import Pipeline\n",
    "from sklearn.impute import SimpleImputer\n",
    "from sklearn.decomposition import PCA\n",
    "from sklearn.ensemble import RandomForestClassifier\n",
    "from sklearn.linear_model import LinearRegression\n",
    "from sklearn.model_selection import GridSearchCV\n",
    "from sklearn.metrics import mean_squared_error, r2_score\n",
    "from sklearn.preprocessing import StandardScaler\n",
    "import numpy as np\n",
    "from sklearn.linear_model import SGDRegressor\n",
    "from sklearn.linear_model import SGDClassifier\n",
    "from sklearn.neighbors import KNeighborsClassifier\n",
    "from sklearn.ensemble import ExtraTreesClassifier\n",
    "from sklearn.linear_model import LinearRegression\n",
    "from sklearn.ensemble import RandomForestClassifier\n",
    "from sklearn.model_selection import GridSearchCV, train_test_split\n",
    "from sklearn.metrics import accuracy_score\n",
    "from sklearn.ensemble import GradientBoostingClassifier\n",
    "from sklearn.ensemble import RandomForestRegressor\n",
    "from sklearn.linear_model import LogisticRegression, Ridge, Lasso, ElasticNet\n",
    "from sklearn.svm import SVC\n",
    "from xgboost import XGBClassifier\n",
    "from sklearn.tree import DecisionTreeRegressor\n",
    "from sklearn.tree import DecisionTreeClassifier\n",
    "from sklearn.neural_network import MLPClassifier\n"
   ]
  },
  {
   "cell_type": "markdown",
   "id": "d83a8def",
   "metadata": {},
   "source": [
    "# Csv File Reading"
   ]
  },
  {
   "cell_type": "code",
   "execution_count": 3,
   "id": "783b6ba6",
   "metadata": {},
   "outputs": [],
   "source": [
    "data = pd.read_csv('iris.csv')"
   ]
  },
  {
   "cell_type": "code",
   "execution_count": 4,
   "id": "61b238d4",
   "metadata": {},
   "outputs": [
    {
     "data": {
      "text/html": [
       "<div>\n",
       "<style scoped>\n",
       "    .dataframe tbody tr th:only-of-type {\n",
       "        vertical-align: middle;\n",
       "    }\n",
       "\n",
       "    .dataframe tbody tr th {\n",
       "        vertical-align: top;\n",
       "    }\n",
       "\n",
       "    .dataframe thead th {\n",
       "        text-align: right;\n",
       "    }\n",
       "</style>\n",
       "<table border=\"1\" class=\"dataframe\">\n",
       "  <thead>\n",
       "    <tr style=\"text-align: right;\">\n",
       "      <th></th>\n",
       "      <th>sepal_length</th>\n",
       "      <th>sepal_width</th>\n",
       "      <th>petal_length</th>\n",
       "      <th>petal_width</th>\n",
       "      <th>species</th>\n",
       "    </tr>\n",
       "  </thead>\n",
       "  <tbody>\n",
       "    <tr>\n",
       "      <th>0</th>\n",
       "      <td>5.1</td>\n",
       "      <td>3.5</td>\n",
       "      <td>1.4</td>\n",
       "      <td>0.2</td>\n",
       "      <td>Iris-setosa</td>\n",
       "    </tr>\n",
       "    <tr>\n",
       "      <th>1</th>\n",
       "      <td>4.9</td>\n",
       "      <td>3.0</td>\n",
       "      <td>1.4</td>\n",
       "      <td>0.2</td>\n",
       "      <td>Iris-setosa</td>\n",
       "    </tr>\n",
       "    <tr>\n",
       "      <th>2</th>\n",
       "      <td>4.7</td>\n",
       "      <td>3.2</td>\n",
       "      <td>1.3</td>\n",
       "      <td>0.2</td>\n",
       "      <td>Iris-setosa</td>\n",
       "    </tr>\n",
       "    <tr>\n",
       "      <th>3</th>\n",
       "      <td>4.6</td>\n",
       "      <td>3.1</td>\n",
       "      <td>1.5</td>\n",
       "      <td>0.2</td>\n",
       "      <td>Iris-setosa</td>\n",
       "    </tr>\n",
       "    <tr>\n",
       "      <th>4</th>\n",
       "      <td>5.0</td>\n",
       "      <td>3.6</td>\n",
       "      <td>1.4</td>\n",
       "      <td>0.2</td>\n",
       "      <td>Iris-setosa</td>\n",
       "    </tr>\n",
       "  </tbody>\n",
       "</table>\n",
       "</div>"
      ],
      "text/plain": [
       "   sepal_length  sepal_width  petal_length  petal_width      species\n",
       "0           5.1          3.5           1.4          0.2  Iris-setosa\n",
       "1           4.9          3.0           1.4          0.2  Iris-setosa\n",
       "2           4.7          3.2           1.3          0.2  Iris-setosa\n",
       "3           4.6          3.1           1.5          0.2  Iris-setosa\n",
       "4           5.0          3.6           1.4          0.2  Iris-setosa"
      ]
     },
     "execution_count": 4,
     "metadata": {},
     "output_type": "execute_result"
    }
   ],
   "source": [
    "data.head(5)"
   ]
  },
  {
   "cell_type": "code",
   "execution_count": 5,
   "id": "24aa40a9",
   "metadata": {},
   "outputs": [],
   "source": [
    "se=data[\"species\"]"
   ]
  },
  {
   "cell_type": "code",
   "execution_count": 6,
   "id": "31c61a47",
   "metadata": {},
   "outputs": [],
   "source": [
    "data.drop(\"species\",inplace=True,axis=1)"
   ]
  },
  {
   "cell_type": "code",
   "execution_count": 7,
   "id": "26d767df",
   "metadata": {},
   "outputs": [
    {
     "data": {
      "text/html": [
       "<div>\n",
       "<style scoped>\n",
       "    .dataframe tbody tr th:only-of-type {\n",
       "        vertical-align: middle;\n",
       "    }\n",
       "\n",
       "    .dataframe tbody tr th {\n",
       "        vertical-align: top;\n",
       "    }\n",
       "\n",
       "    .dataframe thead th {\n",
       "        text-align: right;\n",
       "    }\n",
       "</style>\n",
       "<table border=\"1\" class=\"dataframe\">\n",
       "  <thead>\n",
       "    <tr style=\"text-align: right;\">\n",
       "      <th></th>\n",
       "      <th>sepal_length</th>\n",
       "      <th>sepal_width</th>\n",
       "      <th>petal_length</th>\n",
       "      <th>petal_width</th>\n",
       "    </tr>\n",
       "  </thead>\n",
       "  <tbody>\n",
       "    <tr>\n",
       "      <th>0</th>\n",
       "      <td>5.1</td>\n",
       "      <td>3.5</td>\n",
       "      <td>1.4</td>\n",
       "      <td>0.2</td>\n",
       "    </tr>\n",
       "    <tr>\n",
       "      <th>1</th>\n",
       "      <td>4.9</td>\n",
       "      <td>3.0</td>\n",
       "      <td>1.4</td>\n",
       "      <td>0.2</td>\n",
       "    </tr>\n",
       "    <tr>\n",
       "      <th>2</th>\n",
       "      <td>4.7</td>\n",
       "      <td>3.2</td>\n",
       "      <td>1.3</td>\n",
       "      <td>0.2</td>\n",
       "    </tr>\n",
       "    <tr>\n",
       "      <th>3</th>\n",
       "      <td>4.6</td>\n",
       "      <td>3.1</td>\n",
       "      <td>1.5</td>\n",
       "      <td>0.2</td>\n",
       "    </tr>\n",
       "    <tr>\n",
       "      <th>4</th>\n",
       "      <td>5.0</td>\n",
       "      <td>3.6</td>\n",
       "      <td>1.4</td>\n",
       "      <td>0.2</td>\n",
       "    </tr>\n",
       "  </tbody>\n",
       "</table>\n",
       "</div>"
      ],
      "text/plain": [
       "   sepal_length  sepal_width  petal_length  petal_width\n",
       "0           5.1          3.5           1.4          0.2\n",
       "1           4.9          3.0           1.4          0.2\n",
       "2           4.7          3.2           1.3          0.2\n",
       "3           4.6          3.1           1.5          0.2\n",
       "4           5.0          3.6           1.4          0.2"
      ]
     },
     "execution_count": 7,
     "metadata": {},
     "output_type": "execute_result"
    }
   ],
   "source": [
    "data.head(5)"
   ]
  },
  {
   "cell_type": "code",
   "execution_count": 102,
   "id": "a4d2b354",
   "metadata": {},
   "outputs": [],
   "source": [
    "def read_json_file(filename):\n",
    "\n",
    "    with open(filename, 'r') as json_file:\n",
    "        config = json.load(json_file)\n",
    "    return config"
   ]
  },
  {
   "cell_type": "code",
   "execution_count": 11,
   "id": "a0f84dd2",
   "metadata": {},
   "outputs": [],
   "source": [
    "def feature_handling():\n",
    "    Features=config[\"design_state_data\"][\"feature_handling\"]\n",
    "    imputation_dict={}\n",
    "    for i in data.columns:\n",
    "        if \"impute_with\" in Features[str(i)][\"feature_details\"]:\n",
    "            Imputation_with=Features[str(i)][\"feature_details\"][\"impute_with\"]\n",
    "            if Imputation_with ==\"Average of values\":\n",
    "                imputation_dict[i]=\"mean\"\n",
    "            else:\n",
    "                imputation_dict[i]=Features[i][\"feature_details\"][\"impute_value\"]\n",
    "    return imputation_dict\n",
    "        \n",
    "        \n",
    "    "
   ]
  },
  {
   "cell_type": "code",
   "execution_count": 12,
   "id": "4540663d",
   "metadata": {},
   "outputs": [],
   "source": [
    "def imputation(imputation_values):\n",
    "    for i in imputation_values:\n",
    "        if imputation_values[i]==\"mean\":\n",
    "            mean_value = data[i].mean()\n",
    "            data[i].fillna(mean_value, inplace=True)\n",
    "        else:\n",
    "            data[i].fillna(int(imputation_values[i]), inplace=True)\n",
    "    "
   ]
  },
  {
   "cell_type": "code",
   "execution_count": 14,
   "id": "72f9a095",
   "metadata": {},
   "outputs": [],
   "source": [
    "def feature_reduction_technique():\n",
    "    feature_reduction=config[\"design_state_data\"][\"feature_reduction\"]\n",
    "    return feature_reduction[\"feature_reduction_method\"],feature_reduction\n",
    "    \n",
    "    "
   ]
  },
  {
   "cell_type": "code",
   "execution_count": 15,
   "id": "f84e65e6",
   "metadata": {},
   "outputs": [],
   "source": [
    "def Tree_Base(data_dic):\n",
    "    num_features_to_keep = int(data_dic['num_of_features_to_keep'])\n",
    "    num_trees = int(data_dic['num_of_trees'])\n",
    "    depth_of_trees = int(data_dic['depth_of_trees'])\n",
    "    model = RandomForestClassifier(n_estimators=num_trees, max_depth=depth_of_trees)\n",
    "    model.fit(data, se)\n",
    "    feature_importances = model.feature_importances_\n"
   ]
  },
  {
   "cell_type": "code",
   "execution_count": 16,
   "id": "e8a8bab1",
   "metadata": {},
   "outputs": [],
   "source": [
    "def corelation():\n",
    "    target_col = se\n",
    "    correlation_matrix = data.corrwith(target_col)\n",
    "    abs_correlation = correlation_matrix.abs()\n",
    "    threshold = 0.2 \n",
    "    selected_features = abs_correlation[abs_correlation > threshold].index.tolist()\n",
    "    data_imputed_corr = data[selected_features]"
   ]
  },
  {
   "cell_type": "code",
   "execution_count": 25,
   "id": "7e63de25",
   "metadata": {},
   "outputs": [],
   "source": [
    "def pca():\n",
    "    scaler = StandardScaler()\n",
    "    X_standardized = scaler.fit_transform(data)\n",
    "    pca = PCA()\n",
    "    X_pca = pca.fit_transform(X_standardized)\n",
    "    explained_variance_ratio = pca.explained_variance_ratio_\n",
    "    print(explained_variance_ratio)\n",
    "    "
   ]
  },
  {
   "cell_type": "code",
   "execution_count": 36,
   "id": "e9e31a0c",
   "metadata": {},
   "outputs": [],
   "source": [
    "def selected_models():\n",
    "    models_selection_dict={}\n",
    "    for i in config[\"design_state_data\"]['algorithms']:\n",
    "        models_selection_dict[i]=config[\"design_state_data\"]['algorithms'][i][\"is_selected\"]\n",
    "    return models_selection_dict"
   ]
  },
  {
   "cell_type": "code",
   "execution_count": 87,
   "id": "cd2e3502",
   "metadata": {},
   "outputs": [],
   "source": [
    "def random_forest_classifier_regressor():\n",
    "    X_train, X_test, y_train, y_test = train_test_split(data,se, test_size=0.2, random_state=42)\n",
    "\n",
    "    param_grid = {\n",
    "        'n_estimators': [50, 100, 200],\n",
    "        'max_depth': [None, 10, 20],\n",
    "        'min_samples_split': [2, 5, 10],\n",
    "        'min_samples_leaf': [1, 2, 4]\n",
    "        }\n",
    "    try:\n",
    "        model = RandomForestClassifier()\n",
    "\n",
    "        grid_search = GridSearchCV(model, param_grid, cv=5, scoring='accuracy')\n",
    "        grid_search.fit(X_train, y_train)\n",
    "        best_model = grid_search.best_estimator_\n",
    "\n",
    "        y_pred = best_model.predict(X_test)\n",
    "        accuracy = accuracy_score(y_test, y_pred)\n",
    "\n",
    "    except:\n",
    "        model = RandomForestRegressor()\n",
    "\n",
    "        grid_search = GridSearchCV(model, param_grid, cv=5, scoring='accuracy')\n",
    "        grid_search.fit(X_train, y_train)\n",
    "        best_model = grid_search.best_estimator_\n",
    "\n",
    "        y_pred = best_model.predict(X_test)\n",
    "    \n",
    "    accuracy = accuracy_score(y_test, y_pred)\n",
    "    print(f\"Best Parameters: {grid_search.best_params_}\")\n",
    "    print(f\"Accuracy: {accuracy:.2f}\")"
   ]
  },
  {
   "cell_type": "code",
   "execution_count": 71,
   "id": "08904765",
   "metadata": {},
   "outputs": [],
   "source": [
    "def gbt_classifier_regressor(methods):\n",
    "    X_train, X_test, y_train, y_test = train_test_split(data,se, test_size=0.2, random_state=42)\n",
    "\n",
    "    param_grid = {\n",
    "        'n_estimators': [50, 100, 200],\n",
    "        'learning_rate': [0.01, 0.1, 0.2],\n",
    "        'max_depth': [3, 4, 5],\n",
    "        'min_samples_split': [2, 5, 10],\n",
    "        'min_samples_leaf': [1, 2, 4]\n",
    "        }\n",
    "    if methods==\"Regression\":\n",
    "        \n",
    "        model = GradientBoostingRegressor()\n",
    "    else:\n",
    "        model=GradientBoostingClassifier()\n",
    "\n",
    "    grid_search = GridSearchCV(model, param_grid, cv=5, scoring='accuracy')\n",
    "\n",
    "    grid_search.fit(X_train, y_train)\n",
    "    best_model = grid_search.best_estimator_\n",
    "\n",
    "    y_pred = best_model.predict(X_test)\n",
    "\n",
    "    accuracy = accuracy_score(y_test, y_pred)\n",
    "    print(f\"Best Parameters: {grid_search.best_params_}\")\n",
    "    print(f\"Accuracy: {accuracy:.2f}\")"
   ]
  },
  {
   "cell_type": "code",
   "execution_count": 56,
   "id": "338c48e8",
   "metadata": {},
   "outputs": [],
   "source": [
    "def logistic_regression():\n",
    "    X_train, X_test, y_train, y_test = train_test_split(data,se, test_size=0.2, random_state=42)\n",
    "\n",
    "    logistic_params = {\n",
    "        'C': [0.001, 0.01, 0.1, 1, 10, 100]\n",
    "    }\n",
    "    logistic_model = LogisticRegression(max_iter=1000)\n",
    "    logistic_grid_search = GridSearchCV(logistic_model, logistic_params, cv=5)\n",
    "    logistic_grid_search.fit(X_train, y_train)\n",
    "    logistic_best_model = logistic_grid_search.best_estimator_\n",
    "    logistic_y_pred = logistic_best_model.predict(X_test)\n",
    "    logistic_accuracy = accuracy_score(y_test, logistic_y_pred)\n",
    "    print(f\"Logistic Regression Accuracy: {logistic_accuracy:.2f}\")\n"
   ]
  },
  {
   "cell_type": "code",
   "execution_count": 97,
   "id": "6f7c5629",
   "metadata": {},
   "outputs": [],
   "source": [
    "def ridge_regression():\n",
    "    X_train, X_test, y_train, y_test = train_test_split(data,se, test_size=0.2, random_state=42)\n",
    "\n",
    "    ridge_params = {\n",
    "    'alpha': [0.001, 0.01, 0.1, 1, 10, 100]\n",
    "    }\n",
    "    ridge_model = Ridge()\n",
    "    ridge_grid_search = GridSearchCV(ridge_model, ridge_params, cv=5)\n",
    "    ridge_grid_search.fit(X_train, y_train)\n",
    "    ridge_best_model = ridge_grid_search.best_estimator_\n",
    "    ridge_y_pred = ridge_best_model.predict(X_test)\n",
    "    ridge_y_pred = np.argmax(ridge_y_pred, axis=1)  \n",
    "    ridge_accuracy = accuracy_score(y_test, ridge_y_pred)\n",
    "    print(f\"Ridge Regression Accuracy: {ridge_accuracy:.2f}\")\n"
   ]
  },
  {
   "cell_type": "code",
   "execution_count": null,
   "id": "084496b3",
   "metadata": {},
   "outputs": [],
   "source": [
    "def lasso_regression():\n",
    "    X_train, X_test, y_train, y_test = train_test_split(data,se, test_size=0.2, random_state=42)\n",
    "\n",
    "    lasso_params = {\n",
    "    'alpha': [0.001, 0.01, 0.1, 1, 10, 100]\n",
    "    }\n",
    "    lasso_model = Lasso()\n",
    "    lasso_grid_search = GridSearchCV(lasso_model, lasso_params, cv=5)\n",
    "    lasso_grid_search.fit(X_train, y_train)\n",
    "    lasso_best_model = lasso_grid_search.best_estimator_\n",
    "    lasso_y_pred = lasso_best_model.predict(X_test)\n",
    "    lasso_y_pred = np.argmax(lasso_y_pred, axis=1)  # Convert to class labels\n",
    "    lasso_accuracy = accuracy_score(y_test, lasso_y_pred)\n",
    "    print(f\"Lasso Regression Accuracy: {lasso_accuracy:.2f}\")\n"
   ]
  },
  {
   "cell_type": "code",
   "execution_count": null,
   "id": "48454c86",
   "metadata": {},
   "outputs": [],
   "source": [
    "def elsatic_net():\n",
    "    X_train, X_test, y_train, y_test = train_test_split(data,se, test_size=0.2, random_state=42)\n",
    "\n",
    "    elastic_net_params = {\n",
    "    'alpha': [0.001, 0.01, 0.1, 1, 10, 100],\n",
    "    'l1_ratio': [0.1, 0.5, 0.9]\n",
    "    }\n",
    "    elastic_net_model = ElasticNet()\n",
    "    elastic_net_grid_search = GridSearchCV(elastic_net_model, elastic_net_params, cv=5)\n",
    "    elastic_net_grid_search.fit(X_train, y_train)\n",
    "    elastic_net_best_model = elastic_net_grid_search.best_estimator_\n",
    "    elastic_net_y_pred = elastic_net_best_model.predict(X_test)\n",
    "    elastic_net_y_pred = np.argmax(elastic_net_y_pred, axis=1)  # Convert to class labels\n",
    "    elastic_net_accuracy = accuracy_score(y_test, elastic_net_y_pred)\n",
    "    print(f\"Elastic Net Regression Accuracy: {elastic_net_accuracy:.2f}\")\n"
   ]
  },
  {
   "cell_type": "code",
   "execution_count": 59,
   "id": "9d74fefd",
   "metadata": {},
   "outputs": [],
   "source": [
    "def svc():\n",
    "    X_train, X_test, y_train, y_test = train_test_split(data,se, test_size=0.2, random_state=42)\n",
    "\n",
    "    svm_params = {\n",
    "    'C': [0.1, 1, 10],\n",
    "    'kernel': ['linear', 'poly', 'rbf', 'sigmoid']\n",
    "    }\n",
    "    svm_model = SVC()\n",
    "    svm_grid_search = GridSearchCV(svm_model, svm_params, cv=5)\n",
    "    svm_grid_search.fit(X_train, y_train)\n",
    "    svm_best_model = svm_grid_search.best_estimator_\n",
    "    svm_y_pred = svm_best_model.predict(X_test)\n",
    "    svm_accuracy = accuracy_score(y_test, svm_y_pred)\n",
    "    print(f\"SVM Accuracy: {svm_accuracy:.2f}\")\n"
   ]
  },
  {
   "cell_type": "code",
   "execution_count": 64,
   "id": "c56b8959",
   "metadata": {},
   "outputs": [],
   "source": [
    "def xg_boost(methods=\"Regression\"):\n",
    "    X_train, X_test, y_train, y_test = train_test_split(data,se, test_size=0.2, random_state=42)\n",
    "\n",
    "    xgboost_params = {\n",
    "    'n_estimators': [50, 100, 200],\n",
    "    'max_depth': [3, 4, 5],\n",
    "    'learning_rate': [0.01, 0.1, 0.2]\n",
    "    }\n",
    "    if methods==\"Regression\":\n",
    "        xgboost_model = XGBRegressor()\n",
    "    else:\n",
    "        xgboost_model = XGBClassifier()\n",
    "\n",
    "    xgboost_grid_search = GridSearchCV(xgboost_model, xgboost_params, cv=5)\n",
    "    xgboost_grid_search.fit(X_train, y_train)\n",
    "    xgboost_best_model = xgboost_grid_search.best_estimator_\n",
    "    xgboost_y_pred = xgboost_best_model.predict(X_test)\n",
    "    xgboost_accuracy = accuracy_score(y_test, xgboost_y_pred)"
   ]
  },
  {
   "cell_type": "code",
   "execution_count": 74,
   "id": "6b2c4176",
   "metadata": {},
   "outputs": [],
   "source": [
    "def decision_tree_rgressor():\n",
    "    X_train, X_test, y_train, y_test = train_test_split(data,se, test_size=0.2, random_state=42)\n",
    "\n",
    "    dt_regressor_params = {\n",
    "    'max_depth': [3, 5, 7],\n",
    "    'min_samples_split': [2, 5, 10],\n",
    "    'min_samples_leaf': [1, 2, 4]\n",
    "}\n",
    "    dt_regressor = DecisionTreeRegressor()\n",
    "    dt_regressor_grid_search = GridSearchCV(dt_regressor, dt_regressor_params, cv=5, scoring='neg_mean_squared_error')\n",
    "    dt_regressor_grid_search.fit(X_train, y_train)\n",
    "    dt_regressor_best_model = dt_regressor_grid_search.best_estimator_\n",
    "    dt_regressor_y_pred = dt_regressor_best_model.predict(X_test)\n",
    "    mse_regressor = mean_squared_error(y_test, dt_regressor_y_pred)\n",
    "\n",
    "    # Print best parameters and mean squared error for DecisionTreeRegressor\n",
    "    print(\"DecisionTreeRegressor\")\n",
    "    print(f\"Best Parameters: {dt_regressor_grid_search.best_params_}\")\n",
    "    print(f\"Mean Squared Error: {mse_regressor:.2f}\")"
   ]
  },
  {
   "cell_type": "code",
   "execution_count": 76,
   "id": "b34eb21e",
   "metadata": {},
   "outputs": [],
   "source": [
    "def decision_tree_classifier():\n",
    "    X_train, X_test, y_train, y_test = train_test_split(data,se, test_size=0.2, random_state=42)\n",
    "\n",
    "    dt_classifier_params = {\n",
    "    'max_depth': [3, 5, 7],\n",
    "    'min_samples_split': [2, 5, 10],\n",
    "    'min_samples_leaf': [1, 2, 4]\n",
    "}\n",
    "    dt_classifier = DecisionTreeClassifier()\n",
    "    dt_classifier_grid_search = GridSearchCV(dt_classifier, dt_classifier_params, cv=5)\n",
    "    dt_classifier_grid_search.fit(X_train, y_train)\n",
    "    dt_classifier_best_model = dt_classifier_grid_search.best_estimator_\n",
    "    dt_classifier_y_pred = dt_classifier_best_model.predict(X_test)\n",
    "    accuracy_classifier = accuracy_score(y_test, dt_classifier_y_pred)\n",
    "\n",
    "    # Print best parameters and accuracy for DecisionTreeClassifier\n",
    "    print(\"DecisionTreeClassifier\")\n",
    "    print(f\"Best Parameters: {dt_classifier_grid_search.best_params_}\")\n",
    "    print(f\"Accuracy: {accuracy_classifier:.2f}\")\n"
   ]
  },
  {
   "cell_type": "code",
   "execution_count": null,
   "id": "e606b4b1",
   "metadata": {},
   "outputs": [],
   "source": [
    "def linear_regression():\n",
    "    X_train, X_test, y_train, y_test = train_test_split(data,se, test_size=0.2, random_state=42)\n",
    "\n",
    "    linear_regressor = LinearRegression()\n",
    "\n",
    "    params = {\n",
    "        'fit_intercept': [True, False],\n",
    "        'normalize': [True, False]\n",
    "    }\n",
    "\n",
    "    grid_search = GridSearchCV(linear_regressor, params, cv=5, scoring='neg_mean_squared_error')\n",
    "    grid_search.fit(X_train, y_train)\n",
    "\n",
    "    best_linear_model = grid_search.best_estimator_\n",
    "\n",
    "    linear_y_pred = best_linear_model.predict(X_test)\n",
    "\n",
    "    print(\"Linear Regression\")\n",
    "    print(f\"Best Parameters: {grid_search.best_params_}\")\n"
   ]
  },
  {
   "cell_type": "code",
   "execution_count": 78,
   "id": "7f60d9eb",
   "metadata": {},
   "outputs": [],
   "source": [
    "def knn():\n",
    "    X_train, X_test, y_train, y_test = train_test_split(data,se, test_size=0.2, random_state=42)\n",
    "\n",
    "    knn_params = {\n",
    "    'n_neighbors': [3, 5, 7, 9],\n",
    "    'weights': ['uniform', 'distance'],\n",
    "    'p': [1, 2]\n",
    "}\n",
    "    knn_classifier = KNeighborsClassifier()\n",
    "    knn_grid_search = GridSearchCV(knn_classifier, knn_params, cv=5)\n",
    "    knn_grid_search.fit(X_train, y_train)\n",
    "    knn_best_model = knn_grid_search.best_estimator_\n",
    "    knn_y_pred = knn_best_model.predict(X_test)\n",
    "    accuracy_knn = accuracy_score(y_test, knn_y_pred)\n",
    "\n",
    "    # Print best parameters and accuracy for KNN Classifier\n",
    "    print(\"KNN Classifier\")\n",
    "    print(f\"Best Parameters: {knn_grid_search.best_params_}\")\n",
    "    print(f\"Accuracy: {accuracy_knn:.2f}\")\n"
   ]
  },
  {
   "cell_type": "code",
   "execution_count": 80,
   "id": "cc2e6ac2",
   "metadata": {},
   "outputs": [],
   "source": [
    "def extratree_classifier():\n",
    "    X_train, X_test, y_train, y_test = train_test_split(data,se, test_size=0.2, random_state=42)\n",
    "\n",
    "    extra_trees_params = {\n",
    "    'n_estimators': [50, 100, 200],\n",
    "    'max_depth': [None, 10, 20],\n",
    "    'min_samples_split': [2, 5, 10],\n",
    "    'min_samples_leaf': [1, 2, 4]\n",
    "}\n",
    "    extra_trees_classifier = ExtraTreesClassifier()\n",
    "    extra_trees_grid_search = GridSearchCV(extra_trees_classifier, extra_trees_params, cv=5)\n",
    "    extra_trees_grid_search.fit(X_train, y_train)\n",
    "    extra_trees_best_model = extra_trees_grid_search.best_estimator_\n",
    "    extra_trees_y_pred = extra_trees_best_model.predict(X_test)\n",
    "    accuracy_extra_trees = accuracy_score(y_test, extra_trees_y_pred)\n",
    "\n",
    "    # Print best parameters and accuracy for Extra Trees Classifier\n",
    "    print(\"Extra Trees Classifier\")\n",
    "    print(f\"Best Parameters: {extra_trees_grid_search.best_params_}\")\n",
    "    print(f\"Accuracy: {accuracy_extra_trees:.2f}\")\n"
   ]
  },
  {
   "cell_type": "code",
   "execution_count": 79,
   "id": "558040d1",
   "metadata": {},
   "outputs": [],
   "source": [
    "def sgd(methods):\n",
    "    sgd_params = {\n",
    "    'penalty': ['l2', 'l1', 'elasticnet'],\n",
    "    'alpha': [0.0001, 0.001, 0.01]}\n",
    "    if methods =='Regression':\n",
    "        sgd_model = SGDRegressor(max_iter=100)\n",
    "    else:\n",
    "        sgd_model=SGDClassifier(max_iter=100)\n",
    "    sgd_grid_search = GridSearchCV(sgd_model, sgd_params, cv=5)\n",
    "    sgd_grid_search.fit(X_train, y_train)\n",
    "    sgd_best_model = sgd_grid_search.best_estimator_\n",
    "    sgd_y_pred = sgd_best_model.predict(X_test)\n",
    "    accuracy_sgd = accuracy_score(y_test, sgd_y_pred)\n",
    "    print(f\"Accuracy: {accuracy_sgd:.2f}\")"
   ]
  },
  {
   "cell_type": "code",
   "execution_count": null,
   "id": "db6014e3",
   "metadata": {},
   "outputs": [],
   "source": [
    "def nural_network():\n",
    "    X_train, X_test, y_train, y_test = train_test_split(data,se, test_size=0.2, random_state=42)\n",
    "    nn_classifier = MLPClassifier(hidden_layer_sizes=(100, 50), max_iter=1000, random_state=42)\n",
    "    nn_classifier.fit(X_train, y_train)\n",
    "    nn_y_pred = nn_classifier.predict(X_test)\n",
    "    accuracy_nn = accuracy_score(y_test, nn_y_pred)\n",
    "\n",
    "    # Print accuracy for Neural Network Classifier\n",
    "    print(f\"Neural Network Accuracy: {accuracy_nn:.2f}\")"
   ]
  },
  {
   "cell_type": "markdown",
   "id": "7be45810",
   "metadata": {},
   "source": [
    "# Read Json File"
   ]
  },
  {
   "cell_type": "code",
   "execution_count": 106,
   "id": "6c1a6674",
   "metadata": {},
   "outputs": [],
   "source": [
    "config=read_json_file(\"data.json\")"
   ]
  },
  {
   "cell_type": "code",
   "execution_count": 107,
   "id": "c0a3432b",
   "metadata": {},
   "outputs": [
    {
     "name": "stdout",
     "output_type": "stream",
     "text": [
      "The Type is::--> Regression\n"
     ]
    }
   ],
   "source": [
    "target_col = config[\"design_state_data\"][\"target\"]\n",
    "regression_type = target_col[\"prediction_type\"]\n",
    "print(\"The Type is::-->\",regression_type)"
   ]
  },
  {
   "cell_type": "code",
   "execution_count": 108,
   "id": "a6c86723",
   "metadata": {},
   "outputs": [],
   "source": [
    "methods=regression_type"
   ]
  },
  {
   "cell_type": "markdown",
   "id": "0e6c95b7",
   "metadata": {},
   "source": [
    "# Finding the Imputation Values"
   ]
  },
  {
   "cell_type": "code",
   "execution_count": 109,
   "id": "871a4046",
   "metadata": {},
   "outputs": [
    {
     "name": "stdout",
     "output_type": "stream",
     "text": [
      "Imputation Values:-> {'sepal_length': 'mean', 'sepal_width': -1, 'petal_length': 'mean', 'petal_width': -2}\n"
     ]
    }
   ],
   "source": [
    "Imputation_values=feature_handling()\n",
    "print(\"Imputation Values:->\",Imputation_values)"
   ]
  },
  {
   "cell_type": "markdown",
   "id": "cfcf1843",
   "metadata": {},
   "source": [
    "# Using The Imputation Values We Will Do The Imputation"
   ]
  },
  {
   "cell_type": "code",
   "execution_count": 110,
   "id": "13d4248d",
   "metadata": {},
   "outputs": [],
   "source": [
    "Imputation=imputation(Imputation_values)"
   ]
  },
  {
   "cell_type": "markdown",
   "id": "c7ba3bc2",
   "metadata": {},
   "source": [
    "# Finding The Feature Reduction Technique Method"
   ]
  },
  {
   "cell_type": "code",
   "execution_count": 111,
   "id": "5d232cfd",
   "metadata": {},
   "outputs": [
    {
     "name": "stdout",
     "output_type": "stream",
     "text": [
      "The method of Feature Reduction Technique---> Tree-based\n"
     ]
    }
   ],
   "source": [
    "method,feature_reduction=feature_reduction_technique()\n",
    "print(\"The method of Feature Reduction Technique--->\",method)"
   ]
  },
  {
   "cell_type": "code",
   "execution_count": 112,
   "id": "5beb7f70",
   "metadata": {},
   "outputs": [],
   "source": [
    "if method =='Tree-based':\n",
    "    Tree_Base(feature_reduction)\n",
    "elif method =='Correlation with target':\n",
    "    corelation()\n",
    "elif method =='pca':\n",
    "    pca()\n",
    "else:\n",
    "    pass\n",
    "    "
   ]
  },
  {
   "cell_type": "markdown",
   "id": "4264bffa",
   "metadata": {},
   "source": [
    "# Finding Which Models To Run"
   ]
  },
  {
   "cell_type": "code",
   "execution_count": 115,
   "id": "9500c451",
   "metadata": {},
   "outputs": [],
   "source": [
    "selcted_models_dic=selected_models()\n"
   ]
  },
  {
   "cell_type": "code",
   "execution_count": 117,
   "id": "a55884c3",
   "metadata": {},
   "outputs": [
    {
     "name": "stdout",
     "output_type": "stream",
     "text": [
      "The Models To Run---> {'RandomForestClassifier': False, 'RandomForestRegressor': True, 'GBTClassifier': False, 'GBTRegressor': False, 'LinearRegression': False, 'LogisticRegression': False, 'RidgeRegression': False, 'LassoRegression': False, 'ElasticNetRegression': False, 'xg_boost': False, 'DecisionTreeRegressor': False, 'DecisionTreeClassifier': False, 'SVM': False, 'SGD': False, 'KNN': False, 'extra_random_trees': False, 'neural_network': False}\n"
     ]
    }
   ],
   "source": [
    "print(\"The Models To Run--->\",selcted_models_dic)"
   ]
  },
  {
   "cell_type": "markdown",
   "id": "88a37d5d",
   "metadata": {},
   "source": [
    "# Running The Particular Models"
   ]
  },
  {
   "cell_type": "code",
   "execution_count": 113,
   "id": "33487e0f",
   "metadata": {},
   "outputs": [
    {
     "name": "stdout",
     "output_type": "stream",
     "text": [
      "******** Results For RandomForestRegressor **********\n",
      "Best Parameters: {'max_depth': None, 'min_samples_leaf': 1, 'min_samples_split': 5, 'n_estimators': 100}\n",
      "Accuracy: 1.00\n"
     ]
    }
   ],
   "source": [
    "for i in selcted_models_dic:\n",
    "    if i == \"RandomForestClassifier\" and selcted_models_dic[i]==True:\n",
    "        print(\"******** Results For RandomForestClassifier **********\")\n",
    "        random_forest_classifier_regressor()\n",
    "    elif i == \"RandomForestRegressor\" and selcted_models_dic[i]==True:\n",
    "        print(\"******** Results For RandomForestRegressor **********\")\n",
    "        random_forest_classifier_regressor()\n",
    "    elif i == \"GBTClassifier\" and selcted_models_dic[i]==True:\n",
    "        print(\"******** Results For GBTClassifier **********\")\n",
    "        gbt_classifier_regressor(methods)\n",
    "    elif i == \"GBTRegressor\" and selcted_models_dic[i]==True:\n",
    "        print(\"******** Results For GBTRegressor **********\")\n",
    "        gbt_classifier_regressor(methods)\n",
    "    elif i == \"LogisticRegression\" and selcted_models_dic[i]==True:\n",
    "        print(\"******** Results For LogisticRegression **********\")\n",
    "        logistic_regression()\n",
    "    elif i == \"RidgeRegression\" and selcted_models_dic[i]==True:\n",
    "        print(\"******** Results For RidgeRegression **********\")\n",
    "        ridge_regression()\n",
    "    elif i == \"LassoRegression\" and selcted_models_dic[i]==True:\n",
    "        print(\"******** Results For LassoRegression **********\")\n",
    "        lasso_regression()\n",
    "    elif i == \"ElasticNetRegression\" and selcted_models_dic[i]==True:\n",
    "        print(\"******** Results For ElasticNetRegression **********\")\n",
    "        elsatic_net()\n",
    "    elif i == \"SVM\" and selcted_models_dic[i]==True:\n",
    "        print(\"******** Results For SVM **********\")\n",
    "        svc()\n",
    "    elif i == \"SGD\" and selcted_models_dic[i]==True:\n",
    "        print(\"******** Results For SGD **********\")\n",
    "        sgd(methods)\n",
    "    elif i == \"xg_boost\" and selcted_models_dic[i]==True:\n",
    "        print(\"******** Results For xg_boost **********\")\n",
    "        xg_boost(methods)\n",
    "    elif i == \"DecisionTreeRegressor\" and selcted_models_dic[i]==True:\n",
    "        print(\"******** Results For DecisionTreeRegressor **********\")\n",
    "        decision_tree_rgressor()\n",
    "    elif i == \"DecisionTreeClassifier\" and selcted_models_dic[i]==True:\n",
    "        print(\"******** Results For DecisionTreeClassifier **********\")\n",
    "        decision_tree_classifier()\n",
    "    elif i == \"KNN\" and selcted_models_dic[i]==True:\n",
    "        print(\"******** Results For KNN **********\")\n",
    "        knn()\n",
    "    elif i == \"extra_random_trees\" and selcted_models_dic[i]==True:\n",
    "        print(\"******** Results For extra_random_trees **********\")\n",
    "        extratree_classifier()\n",
    "    elif i == \"neural_network\" and selcted_models_dic[i]==True:\n",
    "        print(\"******** Results For neural_network **********\")\n",
    "        nural_network()\n",
    "    elif i == \"LinearRegression\" and selcted_models_dic[i]==True:\n",
    "        print(\"******** Results For LinearRegression **********\")\n",
    "        linear_regression()\n",
    "        \n",
    "        \n",
    "\n"
   ]
  },
  {
   "cell_type": "code",
   "execution_count": null,
   "id": "bd212299",
   "metadata": {},
   "outputs": [],
   "source": []
  }
 ],
 "metadata": {
  "kernelspec": {
   "display_name": "Python 3 (ipykernel)",
   "language": "python",
   "name": "python3"
  },
  "language_info": {
   "codemirror_mode": {
    "name": "ipython",
    "version": 3
   },
   "file_extension": ".py",
   "mimetype": "text/x-python",
   "name": "python",
   "nbconvert_exporter": "python",
   "pygments_lexer": "ipython3",
   "version": "3.8.13"
  }
 },
 "nbformat": 4,
 "nbformat_minor": 5
}
